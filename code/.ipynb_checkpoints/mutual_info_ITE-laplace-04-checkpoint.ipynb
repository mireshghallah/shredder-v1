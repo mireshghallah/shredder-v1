{
 "cells": [
  {
   "cell_type": "code",
   "execution_count": 49,
   "metadata": {},
   "outputs": [],
   "source": [
    "import sys\n",
    "sys.path.insert(1,'/home/niloofar/ite-repo')\n",
    "import ite\n"
   ]
  },
  {
   "cell_type": "code",
   "execution_count": 50,
   "metadata": {},
   "outputs": [],
   "source": [
    "import torch\n",
    "import torch.nn as nn\n",
    "import torch.nn.functional as F\n",
    "\n",
    "from torchvision.datasets.mnist import MNIST\n",
    "import torchvision.transforms as transforms\n",
    "from torch.utils.data import DataLoader\n",
    "import torch.optim as optim\n",
    "#from tqdm import tqdm, trange\n",
    "import math\n",
    "import csv\n",
    "import numpy as np\n",
    "import itertools\n",
    "import matplotlib.pyplot as plt"
   ]
  },
  {
   "cell_type": "markdown",
   "metadata": {},
   "source": [
    "# Load Data form numpy"
   ]
  },
  {
   "cell_type": "code",
   "execution_count": 51,
   "metadata": {},
   "outputs": [
    {
     "name": "stdout",
     "output_type": "stream",
     "text": [
      "(985, 51984)\n"
     ]
    }
   ],
   "source": [
    "image_original=np.load(\"original-image-4-SNR-31-laplace-full-layer-MI.npy\")[:,0:51984]\n",
    "print(image_original.shape)"
   ]
  },
  {
   "cell_type": "code",
   "execution_count": 52,
   "metadata": {},
   "outputs": [
    {
     "name": "stdout",
     "output_type": "stream",
     "text": [
      "(985, 256, 6, 6)\n",
      "(985, 256, 6, 6)\n"
     ]
    }
   ],
   "source": [
    "activation_noise = np.load(\"noisy-activation-4-SNR-31-laplace-full-layer-MI.npy\")\n",
    "print(activation_noise.shape)\n",
    "#np.expand_dims( model_syn.intermed.noise.detach().numpy(),axis=0)\n",
    "activation_original = np.load(\"original-activation-4-SNR-31-laplace-full-layer-MI.npy\")\n",
    "#np.expand_dims( model_syn.intermed.noise.detach().numpy(),axis=0)\n",
    "print(activation_original.shape)"
   ]
  },
  {
   "cell_type": "markdown",
   "metadata": {},
   "source": [
    "# Reshape data"
   ]
  },
  {
   "cell_type": "code",
   "execution_count": 53,
   "metadata": {},
   "outputs": [],
   "source": [
    "\n",
    "reshaped_noise =np.reshape(activation_noise, (activation_noise.shape[0],-1))\n",
    "reshaped_original = np.reshape(activation_original, (activation_noise.shape[0],-1))"
   ]
  },
  {
   "cell_type": "code",
   "execution_count": 54,
   "metadata": {},
   "outputs": [
    {
     "name": "stdout",
     "output_type": "stream",
     "text": [
      "(985, 9216)\n",
      "(985, 9216)\n",
      "(985, 51984)\n"
     ]
    }
   ],
   "source": [
    "print(reshaped_original.shape)\n",
    "print(reshaped_noise.shape)\n",
    "print(image_original.shape)"
   ]
  },
  {
   "cell_type": "markdown",
   "metadata": {},
   "source": [
    "# mutual info"
   ]
  },
  {
   "cell_type": "code",
   "execution_count": 55,
   "metadata": {},
   "outputs": [],
   "source": [
    "co = ite.cost.MIShannon_DKL() "
   ]
  },
  {
   "cell_type": "markdown",
   "metadata": {},
   "source": [
    "# original"
   ]
  },
  {
   "cell_type": "code",
   "execution_count": 56,
   "metadata": {},
   "outputs": [
    {
     "name": "stdout",
     "output_type": "stream",
     "text": [
      "(985, 61200)\n",
      "12724.622002088005\n"
     ]
    }
   ],
   "source": [
    "ds = np.array([51984, 9216])\n",
    "y = np.concatenate((image_original, reshaped_original),axis=1)\n",
    "print(y.shape)\n",
    "i = co.estimation(y, ds) \n",
    "print(i)"
   ]
  },
  {
   "cell_type": "markdown",
   "metadata": {},
   "source": [
    "# Noisy"
   ]
  },
  {
   "cell_type": "code",
   "execution_count": 57,
   "metadata": {},
   "outputs": [
    {
     "name": "stdout",
     "output_type": "stream",
     "text": [
      "7023.89582135564\n"
     ]
    }
   ],
   "source": [
    "ds = np.array([51984, 9216])\n",
    "y=  np.concatenate((image_original, reshaped_noise),axis=1)\n",
    "i = co.estimation(y, ds) \n",
    "print(i)"
   ]
  },
  {
   "cell_type": "markdown",
   "metadata": {},
   "source": [
    "# image with itself"
   ]
  },
  {
   "cell_type": "code",
   "execution_count": 10,
   "metadata": {},
   "outputs": [
    {
     "name": "stdout",
     "output_type": "stream",
     "text": [
      "731.0783819848212\n"
     ]
    }
   ],
   "source": [
    "ds = np.array([1024, 1024])\n",
    "y=  np.concatenate((image_original, image_original),axis=1)\n",
    "i = co.estimation(y, ds) \n",
    "print(i)"
   ]
  },
  {
   "cell_type": "markdown",
   "metadata": {},
   "source": [
    "# Noise with itself"
   ]
  },
  {
   "cell_type": "code",
   "execution_count": null,
   "metadata": {},
   "outputs": [],
   "source": [
    "ds = np.array([1176, 1176])\n",
    "y=  np.concatenate((reshaped_noise, reshaped_noise),axis=1)\n",
    "i = co.estimation(y, ds) \n",
    "print(i)"
   ]
  },
  {
   "cell_type": "code",
   "execution_count": 69,
   "metadata": {},
   "outputs": [
    {
     "name": "stdout",
     "output_type": "stream",
     "text": [
      "\n"
     ]
    }
   ],
   "source": [
    "print ()"
   ]
  },
  {
   "cell_type": "code",
   "execution_count": null,
   "metadata": {},
   "outputs": [],
   "source": []
  }
 ],
 "metadata": {
  "kernelspec": {
   "display_name": "Python 3",
   "language": "python",
   "name": "python3"
  },
  "language_info": {
   "codemirror_mode": {
    "name": "ipython",
    "version": 3
   },
   "file_extension": ".py",
   "mimetype": "text/x-python",
   "name": "python",
   "nbconvert_exporter": "python",
   "pygments_lexer": "ipython3",
   "version": "3.6.7"
  }
 },
 "nbformat": 4,
 "nbformat_minor": 2
}
