{
 "cells": [
  {
   "cell_type": "markdown",
   "metadata": {},
   "source": [
    "# calculate MI using ITE toolbox"
   ]
  },
  {
   "cell_type": "markdown",
   "metadata": {},
   "source": [
    "from https://bitbucket.org/szzoli/ite-in-python/src/default/"
   ]
  },
  {
   "cell_type": "code",
   "execution_count": 1,
   "metadata": {},
   "outputs": [],
   "source": [
    "import sys\n",
    "sys.path.insert(1,'/home/niloofar/ite-repo')\n",
    "import ite\n"
   ]
  },
  {
   "cell_type": "code",
   "execution_count": 2,
   "metadata": {},
   "outputs": [],
   "source": [
    "import torch\n",
    "import torch.nn as nn\n",
    "import torch.nn.functional as F\n",
    "\n",
    "from torchvision.datasets.mnist import MNIST\n",
    "import torchvision.transforms as transforms\n",
    "from torch.utils.data import DataLoader\n",
    "import torch.optim as optim\n",
    "#from tqdm import tqdm, trange\n",
    "import math\n",
    "import csv\n",
    "import numpy as np\n",
    "import itertools\n",
    "import matplotlib.pyplot as plt"
   ]
  },
  {
   "cell_type": "markdown",
   "metadata": {},
   "source": [
    "# Load Data form numpy"
   ]
  },
  {
   "cell_type": "code",
   "execution_count": 3,
   "metadata": {},
   "outputs": [
    {
     "name": "stdout",
     "output_type": "stream",
     "text": [
      "(985, 51984)\n"
     ]
    }
   ],
   "source": [
    "image_original=np.load(\"original-image-4-laplace-MI.npy\")[:,0:51984]\n",
    "print(image_original.shape)"
   ]
  },
  {
   "cell_type": "code",
   "execution_count": 4,
   "metadata": {},
   "outputs": [
    {
     "name": "stdout",
     "output_type": "stream",
     "text": [
      "(985, 256, 6, 6)\n",
      "(985, 256, 6, 6)\n"
     ]
    }
   ],
   "source": [
    "activation_noise = np.load(\"noisy-activation-4-laplace-MI.npy\")\n",
    "print(activation_noise.shape)\n",
    "#np.expand_dims( model_syn.intermed.noise.detach().numpy(),axis=0)\n",
    "activation_original = np.load(\"original-activation-4-laplace-MI.npy\")\n",
    "#np.expand_dims( model_syn.intermed.noise.detach().numpy(),axis=0)\n",
    "print(activation_original.shape)"
   ]
  },
  {
   "cell_type": "markdown",
   "metadata": {},
   "source": [
    "# Reshape data"
   ]
  },
  {
   "cell_type": "code",
   "execution_count": 5,
   "metadata": {},
   "outputs": [],
   "source": [
    "\n",
    "reshaped_noise =np.reshape(activation_noise, (activation_noise.shape[0],-1))\n",
    "reshaped_original = np.reshape(activation_original, (activation_noise.shape[0],-1))"
   ]
  },
  {
   "cell_type": "code",
   "execution_count": 6,
   "metadata": {},
   "outputs": [
    {
     "name": "stdout",
     "output_type": "stream",
     "text": [
      "(985, 9216)\n",
      "(985, 9216)\n",
      "(985, 51984)\n"
     ]
    }
   ],
   "source": [
    "print(reshaped_original.shape)\n",
    "print(reshaped_noise.shape)\n",
    "print(image_original.shape)"
   ]
  },
  {
   "cell_type": "markdown",
   "metadata": {},
   "source": [
    "# mutual info"
   ]
  },
  {
   "cell_type": "code",
   "execution_count": 7,
   "metadata": {},
   "outputs": [],
   "source": [
    "co = ite.cost.MIShannon_DKL() "
   ]
  },
  {
   "cell_type": "markdown",
   "metadata": {},
   "source": [
    "# original"
   ]
  },
  {
   "cell_type": "code",
   "execution_count": 8,
   "metadata": {},
   "outputs": [
    {
     "name": "stdout",
     "output_type": "stream",
     "text": [
      "(985, 61200)\n",
      "13575.289229827897\n"
     ]
    }
   ],
   "source": [
    "ds = np.array([51984, 9216])\n",
    "y = np.concatenate((image_original, reshaped_original),axis=1)\n",
    "print(y.shape)\n",
    "i = co.estimation(y, ds) \n",
    "print(i)"
   ]
  },
  {
   "cell_type": "markdown",
   "metadata": {},
   "source": [
    "\n",
    "\n",
    "\n",
    "# Noisy"
   ]
  },
  {
   "cell_type": "code",
   "execution_count": 9,
   "metadata": {},
   "outputs": [
    {
     "name": "stdout",
     "output_type": "stream",
     "text": [
      "6835.194138465813\n"
     ]
    }
   ],
   "source": [
    "ds = np.array([51984, 9216])\n",
    "y=  np.concatenate((image_original, reshaped_noise),axis=1)\n",
    "i = co.estimation(y, ds) \n",
    "print(i)"
   ]
  },
  {
   "cell_type": "code",
   "execution_count": null,
   "metadata": {},
   "outputs": [],
   "source": []
  }
 ],
 "metadata": {
  "kernelspec": {
   "display_name": "Python 3",
   "language": "python",
   "name": "python3"
  },
  "language_info": {
   "codemirror_mode": {
    "name": "ipython",
    "version": 3
   },
   "file_extension": ".py",
   "mimetype": "text/x-python",
   "name": "python",
   "nbconvert_exporter": "python",
   "pygments_lexer": "ipython3",
   "version": "3.6.7"
  }
 },
 "nbformat": 4,
 "nbformat_minor": 2
}
